{
  "nbformat": 4,
  "nbformat_minor": 0,
  "metadata": {
    "colab": {
      "name": "Untitled0.ipynb",
      "provenance": [],
      "authorship_tag": "ABX9TyNZy7P7Z0Kak1KAOjC7XWW6",
      "include_colab_link": true
    },
    "kernelspec": {
      "name": "python3",
      "display_name": "Python 3"
    },
    "language_info": {
      "name": "python"
    }
  },
  "cells": [
    {
      "cell_type": "markdown",
      "metadata": {
        "id": "view-in-github",
        "colab_type": "text"
      },
      "source": [
        "<a href=\"https://colab.research.google.com/github/Huaicheng-D/Python-Brushup-Note/blob/main/Python-Brushup-Note.ipynb\" target=\"_parent\"><img src=\"https://colab.research.google.com/assets/colab-badge.svg\" alt=\"Open In Colab\"/></a>"
      ]
    },
    {
      "cell_type": "markdown",
      "source": [
        "List vs. Tuples"
      ],
      "metadata": {
        "id": "E4IlaPjmR4Dc"
      }
    },
    {
      "cell_type": "markdown",
      "source": [
        ""
      ],
      "metadata": {
        "id": "H5immvccSEuW"
      }
    },
    {
      "cell_type": "code",
      "source": [
        "# Tuple immutable, allow duplicates, defined order, faster than list\n",
        "\n",
        "mytuple = ( 'applce', 'cherry', 'banana')\n",
        "print(mytuple)"
      ],
      "metadata": {
        "colab": {
          "base_uri": "https://localhost:8080/"
        },
        "id": "ag9zMDRHRyiU",
        "outputId": "679044eb-411d-45e3-8b2f-290c4ca2ec8d"
      },
      "execution_count": 1,
      "outputs": [
        {
          "output_type": "stream",
          "name": "stdout",
          "text": [
            "('applce', 'cherry', 'banana')\n"
          ]
        }
      ]
    },
    {
      "cell_type": "code",
      "source": [
        "# List mutable, defined order, do not need to be unique, slower than tuples\n",
        "\n",
        "myList = ['apple', 'banana', 'cherry']\n",
        "print(myList)"
      ],
      "metadata": {
        "colab": {
          "base_uri": "https://localhost:8080/"
        },
        "id": "4lvlnx8DSanz",
        "outputId": "045b8560-e3ad-4c22-9a83-a14850b48d87"
      },
      "execution_count": 2,
      "outputs": [
        {
          "output_type": "stream",
          "name": "stdout",
          "text": [
            "['apple', 'banana', 'cherry']\n"
          ]
        }
      ]
    },
    {
      "cell_type": "code",
      "source": [
        "# Set unchangeable, unordered, cannot be referred by index, non-duplicatable\n",
        "\n",
        "myset = {'apple', 'banana', 'cherry'}\n",
        "print(myset)"
      ],
      "metadata": {
        "colab": {
          "base_uri": "https://localhost:8080/"
        },
        "id": "uUErbcoEXv7F",
        "outputId": "6528fb15-25e6-49a2-eb69-5c68814486a4"
      },
      "execution_count": 3,
      "outputs": [
        {
          "output_type": "stream",
          "name": "stdout",
          "text": [
            "{'cherry', 'apple', 'banana'}\n"
          ]
        }
      ]
    },
    {
      "cell_type": "markdown",
      "source": [
        "\n",
        "\n",
        "*   Python is **interpreted**. does not need to be compiled before running it\n",
        "*  **Dynamically typed**. Does not need to state the type of variables\n",
        "* functions are **first-class objects**. Can be assigned to variables, returned from functions, passed at parameters\n",
        "* Python is programming language but capable of scripting.\n",
        "\n"
      ],
      "metadata": {
        "id": "6vXIHSEGZbwh"
      }
    },
    {
      "cell_type": "markdown",
      "source": [
        "**Python namespaces**\n",
        "\n",
        "*   The name assigned to each object along with space. \n",
        "*   Maintained like dictionary. Key is name, value is the address\n",
        "\n",
        "**4 Types**\n",
        "* Built-in: for built-in variables\n",
        "* Global: for main program level\n",
        "* Local: inner function level\n",
        "* Enclosing: higher order function\n",
        "\n"
      ],
      "metadata": {
        "id": "4JNq66DTdGoM"
      }
    },
    {
      "cell_type": "markdown",
      "source": [
        "NOTE: **Higher order function** contains other functions as a parameter or returns a function as an output."
      ],
      "metadata": {
        "id": "F7AHdjZzejly"
      }
    },
    {
      "cell_type": "code",
      "source": [
        "def shout(text):\n",
        "    return text.upper()\n",
        "\n",
        "print(shout('apple'))\n",
        "\n",
        "yell = shout # assign a function pointer to variable yell\n",
        "\n",
        "print(yell('apple'))"
      ],
      "metadata": {
        "id": "kA_q1Q7ceFKH",
        "outputId": "379a6709-e0ad-4846-d12a-b3dd63d001e7",
        "colab": {
          "base_uri": "https://localhost:8080/"
        }
      },
      "execution_count": 5,
      "outputs": [
        {
          "output_type": "stream",
          "name": "stdout",
          "text": [
            "APPLE\n",
            "APPLE\n"
          ]
        }
      ]
    },
    {
      "cell_type": "code",
      "source": [
        "def create_adder(x):\n",
        "    def adder(y):\n",
        "        print(y)\n",
        "        return x+y\n",
        " \n",
        "    return adder\n",
        " \n",
        "add_15 = create_adder(15)\n",
        "\n",
        "print(add_15(10))\n",
        "\n",
        "# function adder is kept in the variable add_15, use add_15(num) to call it"
      ],
      "metadata": {
        "id": "5db9Hix5fN7u",
        "outputId": "23a90f15-42c4-4d29-a42b-c9aacca22ca4",
        "colab": {
          "base_uri": "https://localhost:8080/"
        }
      },
      "execution_count": 8,
      "outputs": [
        {
          "output_type": "stream",
          "name": "stdout",
          "text": [
            "10\n",
            "25\n"
          ]
        }
      ]
    },
    {
      "cell_type": "code",
      "source": [
        "def gfg_decorator(func):\n",
        "    print(\"gfg\")\n",
        "\n",
        "@gfg_decorator\n",
        "def hello_decorator():\n",
        "    print(\"hello\")\n",
        "\n",
        "\n",
        "'''Above code is equivalent to -\n",
        "\n",
        "def hello_decorator():\n",
        "    print(\"Gfg\")\n",
        "    \n",
        "hello_decorator = gfg_decorator(hello_decorator)'''"
      ],
      "metadata": {
        "id": "BSMCSBNxjjY6",
        "outputId": "4bba4e46-c965-4105-b978-0b0c473bcbe0",
        "colab": {
          "base_uri": "https://localhost:8080/",
          "height": 53
        }
      },
      "execution_count": 22,
      "outputs": [
        {
          "output_type": "stream",
          "name": "stdout",
          "text": [
            "gfg\n"
          ]
        },
        {
          "output_type": "execute_result",
          "data": {
            "application/vnd.google.colaboratory.intrinsic+json": {
              "type": "string"
            },
            "text/plain": [
              "'Above code is equivalent to -\\n\\ndef hello_decorator():\\n    print(\"Gfg\")\\n    \\nhello_decorator = gfg_decorator(hello_decorator)'"
            ]
          },
          "metadata": {},
          "execution_count": 22
        }
      ]
    },
    {
      "cell_type": "code",
      "source": [
        "# List Comprehensions : another concise way to define lists\n",
        "\n",
        "x = [i for i in range(5)]\n",
        "\n",
        "print(x)"
      ],
      "metadata": {
        "id": "GxPgJCtVp1sk",
        "outputId": "0b3ff93a-f258-4ae8-e89c-a660526201fd",
        "colab": {
          "base_uri": "https://localhost:8080/"
        }
      },
      "execution_count": 12,
      "outputs": [
        {
          "output_type": "stream",
          "name": "stdout",
          "text": [
            "[0, 1, 2, 3, 4]\n"
          ]
        }
      ]
    },
    {
      "cell_type": "code",
      "source": [
        ""
      ],
      "metadata": {
        "id": "SGJokTHrq2Qu"
      },
      "execution_count": null,
      "outputs": []
    }
  ]
}